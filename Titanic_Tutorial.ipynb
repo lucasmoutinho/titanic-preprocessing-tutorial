{
 "cells": [
  {
   "cell_type": "markdown",
   "metadata": {},
   "source": [
    "# Titanic Notebook - IA Neurals!\n",
    "\n",
    "![Titanic Logo](data:image/jpeg;base64,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)\n",
    "\n",
    "#### Created by: Lucas Moutinho! [Siga meu Github!](https://github.com/lucasmoutinho)\n",
    "\n",
    "Aula focada em exploração, visualização e pré-processamento de dados utilizando do [dataset de desafio temático do Titanic para iniciantes na plataforma Kaggle](https://www.kaggle.com/c/titanic/data)\n",
    "\n"
   ]
  },
  {
   "cell_type": "markdown",
   "metadata": {},
   "source": [
    "## Explorando o dataset e os dados"
   ]
  },
  {
   "cell_type": "markdown",
   "metadata": {},
   "source": [
    "#### Importando bibliotecas padrão"
   ]
  },
  {
   "cell_type": "code",
   "execution_count": 1,
   "metadata": {},
   "outputs": [],
   "source": [
    "# Importando bibliotecas padrão\n",
    "\n",
    "import numpy as np # Valores numéricos\n",
    "import matplotlib.pyplot as plt # Visualização\n",
    "import pandas as pd # Dataframes\n",
    "\n",
    "\n",
    "# Coisas pra visualização ficar bunitinha (não precisa esquentar com isso)\n",
    "import warnings\n",
    "warnings.filterwarnings('ignore')\n",
    "\n",
    "%matplotlib inline\n",
    "import seaborn\n",
    "seaborn.set() "
   ]
  },
  {
   "cell_type": "markdown",
   "metadata": {},
   "source": [
    "#### Criando dataframes a partir da leitura dos datasets"
   ]
  },
  {
   "cell_type": "code",
   "execution_count": 10,
   "metadata": {},
   "outputs": [],
   "source": [
    "df_train = pd.read_csv(\"train.csv\")\n",
    "df_test = pd.read_csv(\"train.csv\")\n",
    "df = pd.concat([df_train, df_test], axis = 0, ignore_index=True)"
   ]
  },
  {
   "cell_type": "markdown",
   "metadata": {},
   "source": [
    "#### Analisando características gerais do dataset"
   ]
  },
  {
   "cell_type": "code",
   "execution_count": 11,
   "metadata": {},
   "outputs": [
    {
     "data": {
      "text/html": [
       "<div>\n",
       "<style scoped>\n",
       "    .dataframe tbody tr th:only-of-type {\n",
       "        vertical-align: middle;\n",
       "    }\n",
       "\n",
       "    .dataframe tbody tr th {\n",
       "        vertical-align: top;\n",
       "    }\n",
       "\n",
       "    .dataframe thead th {\n",
       "        text-align: right;\n",
       "    }\n",
       "</style>\n",
       "<table border=\"1\" class=\"dataframe\">\n",
       "  <thead>\n",
       "    <tr style=\"text-align: right;\">\n",
       "      <th></th>\n",
       "      <th>PassengerId</th>\n",
       "      <th>Survived</th>\n",
       "      <th>Pclass</th>\n",
       "      <th>Name</th>\n",
       "      <th>Sex</th>\n",
       "      <th>Age</th>\n",
       "      <th>SibSp</th>\n",
       "      <th>Parch</th>\n",
       "      <th>Ticket</th>\n",
       "      <th>Fare</th>\n",
       "      <th>Cabin</th>\n",
       "      <th>Embarked</th>\n",
       "    </tr>\n",
       "  </thead>\n",
       "  <tbody>\n",
       "    <tr>\n",
       "      <th>0</th>\n",
       "      <td>1</td>\n",
       "      <td>0</td>\n",
       "      <td>3</td>\n",
       "      <td>Braund, Mr. Owen Harris</td>\n",
       "      <td>male</td>\n",
       "      <td>22.0</td>\n",
       "      <td>1</td>\n",
       "      <td>0</td>\n",
       "      <td>A/5 21171</td>\n",
       "      <td>7.2500</td>\n",
       "      <td>NaN</td>\n",
       "      <td>S</td>\n",
       "    </tr>\n",
       "    <tr>\n",
       "      <th>1</th>\n",
       "      <td>2</td>\n",
       "      <td>1</td>\n",
       "      <td>1</td>\n",
       "      <td>Cumings, Mrs. John Bradley (Florence Briggs Th...</td>\n",
       "      <td>female</td>\n",
       "      <td>38.0</td>\n",
       "      <td>1</td>\n",
       "      <td>0</td>\n",
       "      <td>PC 17599</td>\n",
       "      <td>71.2833</td>\n",
       "      <td>C85</td>\n",
       "      <td>C</td>\n",
       "    </tr>\n",
       "    <tr>\n",
       "      <th>2</th>\n",
       "      <td>3</td>\n",
       "      <td>1</td>\n",
       "      <td>3</td>\n",
       "      <td>Heikkinen, Miss. Laina</td>\n",
       "      <td>female</td>\n",
       "      <td>26.0</td>\n",
       "      <td>0</td>\n",
       "      <td>0</td>\n",
       "      <td>STON/O2. 3101282</td>\n",
       "      <td>7.9250</td>\n",
       "      <td>NaN</td>\n",
       "      <td>S</td>\n",
       "    </tr>\n",
       "    <tr>\n",
       "      <th>3</th>\n",
       "      <td>4</td>\n",
       "      <td>1</td>\n",
       "      <td>1</td>\n",
       "      <td>Futrelle, Mrs. Jacques Heath (Lily May Peel)</td>\n",
       "      <td>female</td>\n",
       "      <td>35.0</td>\n",
       "      <td>1</td>\n",
       "      <td>0</td>\n",
       "      <td>113803</td>\n",
       "      <td>53.1000</td>\n",
       "      <td>C123</td>\n",
       "      <td>S</td>\n",
       "    </tr>\n",
       "    <tr>\n",
       "      <th>4</th>\n",
       "      <td>5</td>\n",
       "      <td>0</td>\n",
       "      <td>3</td>\n",
       "      <td>Allen, Mr. William Henry</td>\n",
       "      <td>male</td>\n",
       "      <td>35.0</td>\n",
       "      <td>0</td>\n",
       "      <td>0</td>\n",
       "      <td>373450</td>\n",
       "      <td>8.0500</td>\n",
       "      <td>NaN</td>\n",
       "      <td>S</td>\n",
       "    </tr>\n",
       "  </tbody>\n",
       "</table>\n",
       "</div>"
      ],
      "text/plain": [
       "   PassengerId  Survived  Pclass  \\\n",
       "0            1         0       3   \n",
       "1            2         1       1   \n",
       "2            3         1       3   \n",
       "3            4         1       1   \n",
       "4            5         0       3   \n",
       "\n",
       "                                                Name     Sex   Age  SibSp  \\\n",
       "0                            Braund, Mr. Owen Harris    male  22.0      1   \n",
       "1  Cumings, Mrs. John Bradley (Florence Briggs Th...  female  38.0      1   \n",
       "2                             Heikkinen, Miss. Laina  female  26.0      0   \n",
       "3       Futrelle, Mrs. Jacques Heath (Lily May Peel)  female  35.0      1   \n",
       "4                           Allen, Mr. William Henry    male  35.0      0   \n",
       "\n",
       "   Parch            Ticket     Fare Cabin Embarked  \n",
       "0      0         A/5 21171   7.2500   NaN        S  \n",
       "1      0          PC 17599  71.2833   C85        C  \n",
       "2      0  STON/O2. 3101282   7.9250   NaN        S  \n",
       "3      0            113803  53.1000  C123        S  \n",
       "4      0            373450   8.0500   NaN        S  "
      ]
     },
     "execution_count": 11,
     "metadata": {},
     "output_type": "execute_result"
    }
   ],
   "source": [
    "df.head()"
   ]
  },
  {
   "cell_type": "code",
   "execution_count": 12,
   "metadata": {},
   "outputs": [
    {
     "name": "stdout",
     "output_type": "stream",
     "text": [
      "<class 'pandas.core.frame.DataFrame'>\n",
      "RangeIndex: 1782 entries, 0 to 1781\n",
      "Data columns (total 12 columns):\n",
      " #   Column       Non-Null Count  Dtype  \n",
      "---  ------       --------------  -----  \n",
      " 0   PassengerId  1782 non-null   int64  \n",
      " 1   Survived     1782 non-null   int64  \n",
      " 2   Pclass       1782 non-null   int64  \n",
      " 3   Name         1782 non-null   object \n",
      " 4   Sex          1782 non-null   object \n",
      " 5   Age          1428 non-null   float64\n",
      " 6   SibSp        1782 non-null   int64  \n",
      " 7   Parch        1782 non-null   int64  \n",
      " 8   Ticket       1782 non-null   object \n",
      " 9   Fare         1782 non-null   float64\n",
      " 10  Cabin        408 non-null    object \n",
      " 11  Embarked     1778 non-null   object \n",
      "dtypes: float64(2), int64(5), object(5)\n",
      "memory usage: 167.2+ KB\n"
     ]
    }
   ],
   "source": [
    "df.info()"
   ]
  },
  {
   "cell_type": "code",
   "execution_count": 13,
   "metadata": {},
   "outputs": [
    {
     "data": {
      "text/plain": [
       "PassengerId    False\n",
       "Survived       False\n",
       "Pclass         False\n",
       "Name           False\n",
       "Sex            False\n",
       "Age             True\n",
       "SibSp          False\n",
       "Parch          False\n",
       "Ticket         False\n",
       "Fare           False\n",
       "Cabin           True\n",
       "Embarked        True\n",
       "dtype: bool"
      ]
     },
     "execution_count": 13,
     "metadata": {},
     "output_type": "execute_result"
    }
   ],
   "source": [
    "pd.isnull(dataset).any()"
   ]
  },
  {
   "cell_type": "markdown",
   "metadata": {},
   "source": [
    "#### Explorando os dados"
   ]
  },
  {
   "cell_type": "code",
   "execution_count": 23,
   "metadata": {},
   "outputs": [
    {
     "data": {
      "text/plain": [
       "Survived\n",
       "0    1098\n",
       "1     684\n",
       "Name: PassengerId, dtype: int64"
      ]
     },
     "execution_count": 23,
     "metadata": {},
     "output_type": "execute_result"
    }
   ],
   "source": [
    "survivor_count = df.groupby('Survived').count()['PassengerId']\n",
    "survivor_count"
   ]
  },
  {
   "cell_type": "code",
   "execution_count": 48,
   "metadata": {},
   "outputs": [
    {
     "data": {
      "text/plain": [
       "Sex\n",
       "female     628\n",
       "male      1154\n",
       "Name: PassengerId, dtype: int64"
      ]
     },
     "execution_count": 48,
     "metadata": {},
     "output_type": "execute_result"
    }
   ],
   "source": [
    "sex_count = df.groupby('Sex').count()['PassengerId']\n",
    "sex_count"
   ]
  },
  {
   "cell_type": "code",
   "execution_count": 54,
   "metadata": {},
   "outputs": [
    {
     "data": {
      "text/plain": [
       "Pclass\n",
       "1    432\n",
       "2    368\n",
       "3    982\n",
       "Name: PassengerId, dtype: int64"
      ]
     },
     "execution_count": 54,
     "metadata": {},
     "output_type": "execute_result"
    }
   ],
   "source": [
    "sex_count = df.groupby('Pclass').count()['PassengerId']\n",
    "sex_count"
   ]
  },
  {
   "cell_type": "code",
   "execution_count": 52,
   "metadata": {},
   "outputs": [
    {
     "data": {
      "text/plain": [
       "Survived  Sex   \n",
       "0         female    162\n",
       "          male      936\n",
       "1         female    466\n",
       "          male      218\n",
       "Name: PassengerId, dtype: int64"
      ]
     },
     "execution_count": 52,
     "metadata": {},
     "output_type": "execute_result"
    }
   ],
   "source": [
    "survivor_sex_count = df.groupby(['Survived', 'Sex']).count()['PassengerId']\n",
    "survivor_sex_count"
   ]
  },
  {
   "cell_type": "code",
   "execution_count": 53,
   "metadata": {},
   "outputs": [
    {
     "data": {
      "text/plain": [
       "Survived  Pclass\n",
       "0         1         160\n",
       "          2         194\n",
       "          3         744\n",
       "1         1         272\n",
       "          2         174\n",
       "          3         238\n",
       "Name: PassengerId, dtype: int64"
      ]
     },
     "execution_count": 53,
     "metadata": {},
     "output_type": "execute_result"
    }
   ],
   "source": [
    "survivor_class_count = df.groupby(['Survived', 'Pclass']).count()['PassengerId']\n",
    "survivor_class_count"
   ]
  },
  {
   "cell_type": "code",
   "execution_count": 25,
   "metadata": {},
   "outputs": [
    {
     "data": {
      "text/plain": [
       "Survived\n",
       "0    30.626179\n",
       "1    28.343690\n",
       "Name: Age, dtype: float64"
      ]
     },
     "execution_count": 25,
     "metadata": {},
     "output_type": "execute_result"
    }
   ],
   "source": [
    "survivor_age = df.groupby('Survived').mean()['Age']\n",
    "survivor_age"
   ]
  },
  {
   "cell_type": "code",
   "execution_count": 45,
   "metadata": {},
   "outputs": [
    {
     "data": {
      "text/plain": [
       "354"
      ]
     },
     "execution_count": 45,
     "metadata": {},
     "output_type": "execute_result"
    }
   ],
   "source": [
    "df['Age'].isna().sum()"
   ]
  },
  {
   "cell_type": "code",
   "execution_count": 29,
   "metadata": {},
   "outputs": [
    {
     "data": {
      "text/plain": [
       "Survived  Sex   \n",
       "0         female    25.046875\n",
       "          male      31.618056\n",
       "1         female    28.847716\n",
       "          male      27.276022\n",
       "Name: Age, dtype: float64"
      ]
     },
     "execution_count": 29,
     "metadata": {},
     "output_type": "execute_result"
    }
   ],
   "source": [
    "sex_age = df.groupby(['Survived', 'Sex']).mean()['Age']\n",
    "sex_age"
   ]
  },
  {
   "cell_type": "code",
   "execution_count": 38,
   "metadata": {},
   "outputs": [
    {
     "data": {
      "text/plain": [
       "(25.046875, 31.618055555555557)"
      ]
     },
     "execution_count": 38,
     "metadata": {},
     "output_type": "execute_result"
    }
   ],
   "source": [
    "female_died_age_mean = sex_age.iloc[0]\n",
    "male_died_age_mean = sex_age.iloc[1]\n",
    "female_survived_age_mean = sex_age.iloc[2]\n",
    "male_survived_age_mean = sex_age.iloc[3]\n",
    "female_died_age_mean, male_died_age_mean"
   ]
  },
  {
   "cell_type": "code",
   "execution_count": 39,
   "metadata": {},
   "outputs": [
    {
     "data": {
      "text/plain": [
       "Embarked\n",
       "C     336\n",
       "Q     154\n",
       "S    1288\n",
       "Name: PassengerId, dtype: int64"
      ]
     },
     "execution_count": 39,
     "metadata": {},
     "output_type": "execute_result"
    }
   ],
   "source": [
    "embarked_count = df.groupby('Embarked').count()['PassengerId']\n",
    "embarked_count"
   ]
  },
  {
   "cell_type": "code",
   "execution_count": 40,
   "metadata": {},
   "outputs": [
    {
     "data": {
      "text/plain": [
       "4"
      ]
     },
     "execution_count": 40,
     "metadata": {},
     "output_type": "execute_result"
    }
   ],
   "source": [
    "df['Embarked'].isna().sum()"
   ]
  },
  {
   "cell_type": "code",
   "execution_count": 42,
   "metadata": {},
   "outputs": [
    {
     "data": {
      "text/plain": [
       "Cabin\n",
       "A10            2\n",
       "D30            2\n",
       "D28            2\n",
       "D21            2\n",
       "D19            2\n",
       "              ..\n",
       "C22 C26        6\n",
       "F2             6\n",
       "C23 C25 C27    8\n",
       "G6             8\n",
       "B96 B98        8\n",
       "Name: PassengerId, Length: 147, dtype: int64"
      ]
     },
     "execution_count": 42,
     "metadata": {},
     "output_type": "execute_result"
    }
   ],
   "source": [
    "cabin_count = df.groupby('Cabin').count()['PassengerId'].sort_values()\n",
    "cabin_count"
   ]
  },
  {
   "cell_type": "code",
   "execution_count": 43,
   "metadata": {},
   "outputs": [
    {
     "data": {
      "text/plain": [
       "1374"
      ]
     },
     "execution_count": 43,
     "metadata": {},
     "output_type": "execute_result"
    }
   ],
   "source": [
    "df['Cabin'].isna().sum()"
   ]
  },
  {
   "cell_type": "markdown",
   "metadata": {},
   "source": [
    "#### Visualizando os dados"
   ]
  },
  {
   "cell_type": "code",
   "execution_count": 56,
   "metadata": {},
   "outputs": [
    {
     "data": {
      "text/html": [
       "<div>\n",
       "<style scoped>\n",
       "    .dataframe tbody tr th:only-of-type {\n",
       "        vertical-align: middle;\n",
       "    }\n",
       "\n",
       "    .dataframe tbody tr th {\n",
       "        vertical-align: top;\n",
       "    }\n",
       "\n",
       "    .dataframe thead th {\n",
       "        text-align: right;\n",
       "    }\n",
       "</style>\n",
       "<table border=\"1\" class=\"dataframe\">\n",
       "  <thead>\n",
       "    <tr style=\"text-align: right;\">\n",
       "      <th></th>\n",
       "      <th>PassengerId</th>\n",
       "      <th>Survived</th>\n",
       "      <th>Pclass</th>\n",
       "      <th>Name</th>\n",
       "      <th>Sex</th>\n",
       "      <th>Age</th>\n",
       "      <th>SibSp</th>\n",
       "      <th>Parch</th>\n",
       "      <th>Ticket</th>\n",
       "      <th>Fare</th>\n",
       "      <th>Cabin</th>\n",
       "      <th>Embarked</th>\n",
       "    </tr>\n",
       "  </thead>\n",
       "  <tbody>\n",
       "    <tr>\n",
       "      <th>1</th>\n",
       "      <td>2</td>\n",
       "      <td>1</td>\n",
       "      <td>1</td>\n",
       "      <td>Cumings, Mrs. John Bradley (Florence Briggs Th...</td>\n",
       "      <td>female</td>\n",
       "      <td>38.0</td>\n",
       "      <td>1</td>\n",
       "      <td>0</td>\n",
       "      <td>PC 17599</td>\n",
       "      <td>71.2833</td>\n",
       "      <td>C85</td>\n",
       "      <td>C</td>\n",
       "    </tr>\n",
       "    <tr>\n",
       "      <th>2</th>\n",
       "      <td>3</td>\n",
       "      <td>1</td>\n",
       "      <td>3</td>\n",
       "      <td>Heikkinen, Miss. Laina</td>\n",
       "      <td>female</td>\n",
       "      <td>26.0</td>\n",
       "      <td>0</td>\n",
       "      <td>0</td>\n",
       "      <td>STON/O2. 3101282</td>\n",
       "      <td>7.9250</td>\n",
       "      <td>NaN</td>\n",
       "      <td>S</td>\n",
       "    </tr>\n",
       "    <tr>\n",
       "      <th>3</th>\n",
       "      <td>4</td>\n",
       "      <td>1</td>\n",
       "      <td>1</td>\n",
       "      <td>Futrelle, Mrs. Jacques Heath (Lily May Peel)</td>\n",
       "      <td>female</td>\n",
       "      <td>35.0</td>\n",
       "      <td>1</td>\n",
       "      <td>0</td>\n",
       "      <td>113803</td>\n",
       "      <td>53.1000</td>\n",
       "      <td>C123</td>\n",
       "      <td>S</td>\n",
       "    </tr>\n",
       "    <tr>\n",
       "      <th>8</th>\n",
       "      <td>9</td>\n",
       "      <td>1</td>\n",
       "      <td>3</td>\n",
       "      <td>Johnson, Mrs. Oscar W (Elisabeth Vilhelmina Berg)</td>\n",
       "      <td>female</td>\n",
       "      <td>27.0</td>\n",
       "      <td>0</td>\n",
       "      <td>2</td>\n",
       "      <td>347742</td>\n",
       "      <td>11.1333</td>\n",
       "      <td>NaN</td>\n",
       "      <td>S</td>\n",
       "    </tr>\n",
       "    <tr>\n",
       "      <th>9</th>\n",
       "      <td>10</td>\n",
       "      <td>1</td>\n",
       "      <td>2</td>\n",
       "      <td>Nasser, Mrs. Nicholas (Adele Achem)</td>\n",
       "      <td>female</td>\n",
       "      <td>14.0</td>\n",
       "      <td>1</td>\n",
       "      <td>0</td>\n",
       "      <td>237736</td>\n",
       "      <td>30.0708</td>\n",
       "      <td>NaN</td>\n",
       "      <td>C</td>\n",
       "    </tr>\n",
       "    <tr>\n",
       "      <th>...</th>\n",
       "      <td>...</td>\n",
       "      <td>...</td>\n",
       "      <td>...</td>\n",
       "      <td>...</td>\n",
       "      <td>...</td>\n",
       "      <td>...</td>\n",
       "      <td>...</td>\n",
       "      <td>...</td>\n",
       "      <td>...</td>\n",
       "      <td>...</td>\n",
       "      <td>...</td>\n",
       "      <td>...</td>\n",
       "    </tr>\n",
       "    <tr>\n",
       "      <th>1766</th>\n",
       "      <td>876</td>\n",
       "      <td>1</td>\n",
       "      <td>3</td>\n",
       "      <td>Najib, Miss. Adele Kiamie \"Jane\"</td>\n",
       "      <td>female</td>\n",
       "      <td>15.0</td>\n",
       "      <td>0</td>\n",
       "      <td>0</td>\n",
       "      <td>2667</td>\n",
       "      <td>7.2250</td>\n",
       "      <td>NaN</td>\n",
       "      <td>C</td>\n",
       "    </tr>\n",
       "    <tr>\n",
       "      <th>1770</th>\n",
       "      <td>880</td>\n",
       "      <td>1</td>\n",
       "      <td>1</td>\n",
       "      <td>Potter, Mrs. Thomas Jr (Lily Alexenia Wilson)</td>\n",
       "      <td>female</td>\n",
       "      <td>56.0</td>\n",
       "      <td>0</td>\n",
       "      <td>1</td>\n",
       "      <td>11767</td>\n",
       "      <td>83.1583</td>\n",
       "      <td>C50</td>\n",
       "      <td>C</td>\n",
       "    </tr>\n",
       "    <tr>\n",
       "      <th>1771</th>\n",
       "      <td>881</td>\n",
       "      <td>1</td>\n",
       "      <td>2</td>\n",
       "      <td>Shelley, Mrs. William (Imanita Parrish Hall)</td>\n",
       "      <td>female</td>\n",
       "      <td>25.0</td>\n",
       "      <td>0</td>\n",
       "      <td>1</td>\n",
       "      <td>230433</td>\n",
       "      <td>26.0000</td>\n",
       "      <td>NaN</td>\n",
       "      <td>S</td>\n",
       "    </tr>\n",
       "    <tr>\n",
       "      <th>1778</th>\n",
       "      <td>888</td>\n",
       "      <td>1</td>\n",
       "      <td>1</td>\n",
       "      <td>Graham, Miss. Margaret Edith</td>\n",
       "      <td>female</td>\n",
       "      <td>19.0</td>\n",
       "      <td>0</td>\n",
       "      <td>0</td>\n",
       "      <td>112053</td>\n",
       "      <td>30.0000</td>\n",
       "      <td>B42</td>\n",
       "      <td>S</td>\n",
       "    </tr>\n",
       "    <tr>\n",
       "      <th>1780</th>\n",
       "      <td>890</td>\n",
       "      <td>1</td>\n",
       "      <td>1</td>\n",
       "      <td>Behr, Mr. Karl Howell</td>\n",
       "      <td>male</td>\n",
       "      <td>26.0</td>\n",
       "      <td>0</td>\n",
       "      <td>0</td>\n",
       "      <td>111369</td>\n",
       "      <td>30.0000</td>\n",
       "      <td>C148</td>\n",
       "      <td>C</td>\n",
       "    </tr>\n",
       "  </tbody>\n",
       "</table>\n",
       "<p>684 rows × 12 columns</p>\n",
       "</div>"
      ],
      "text/plain": [
       "      PassengerId  Survived  Pclass  \\\n",
       "1               2         1       1   \n",
       "2               3         1       3   \n",
       "3               4         1       1   \n",
       "8               9         1       3   \n",
       "9              10         1       2   \n",
       "...           ...       ...     ...   \n",
       "1766          876         1       3   \n",
       "1770          880         1       1   \n",
       "1771          881         1       2   \n",
       "1778          888         1       1   \n",
       "1780          890         1       1   \n",
       "\n",
       "                                                   Name     Sex   Age  SibSp  \\\n",
       "1     Cumings, Mrs. John Bradley (Florence Briggs Th...  female  38.0      1   \n",
       "2                                Heikkinen, Miss. Laina  female  26.0      0   \n",
       "3          Futrelle, Mrs. Jacques Heath (Lily May Peel)  female  35.0      1   \n",
       "8     Johnson, Mrs. Oscar W (Elisabeth Vilhelmina Berg)  female  27.0      0   \n",
       "9                   Nasser, Mrs. Nicholas (Adele Achem)  female  14.0      1   \n",
       "...                                                 ...     ...   ...    ...   \n",
       "1766                   Najib, Miss. Adele Kiamie \"Jane\"  female  15.0      0   \n",
       "1770      Potter, Mrs. Thomas Jr (Lily Alexenia Wilson)  female  56.0      0   \n",
       "1771       Shelley, Mrs. William (Imanita Parrish Hall)  female  25.0      0   \n",
       "1778                       Graham, Miss. Margaret Edith  female  19.0      0   \n",
       "1780                              Behr, Mr. Karl Howell    male  26.0      0   \n",
       "\n",
       "      Parch            Ticket     Fare Cabin Embarked  \n",
       "1         0          PC 17599  71.2833   C85        C  \n",
       "2         0  STON/O2. 3101282   7.9250   NaN        S  \n",
       "3         0            113803  53.1000  C123        S  \n",
       "8         2            347742  11.1333   NaN        S  \n",
       "9         0            237736  30.0708   NaN        C  \n",
       "...     ...               ...      ...   ...      ...  \n",
       "1766      0              2667   7.2250   NaN        C  \n",
       "1770      1             11767  83.1583   C50        C  \n",
       "1771      1            230433  26.0000   NaN        S  \n",
       "1778      0            112053  30.0000   B42        S  \n",
       "1780      0            111369  30.0000  C148        C  \n",
       "\n",
       "[684 rows x 12 columns]"
      ]
     },
     "execution_count": 56,
     "metadata": {},
     "output_type": "execute_result"
    }
   ],
   "source": [
    "survived_class = df[df['Survived']==1]\n",
    "survived_class"
   ]
  },
  {
   "cell_type": "code",
   "execution_count": 72,
   "metadata": {},
   "outputs": [
    {
     "data": {
      "text/plain": [
       "1    272\n",
       "3    238\n",
       "2    174\n",
       "Name: Pclass, dtype: int64"
      ]
     },
     "execution_count": 72,
     "metadata": {},
     "output_type": "execute_result"
    }
   ],
   "source": [
    "survived_class = df[df['Survived']==1]['Pclass'].value_counts()\n",
    "survived_class"
   ]
  },
  {
   "cell_type": "code",
   "execution_count": 66,
   "metadata": {},
   "outputs": [
    {
     "data": {
      "text/plain": [
       "3    744\n",
       "2    194\n",
       "1    160\n",
       "Name: Pclass, dtype: int64"
      ]
     },
     "execution_count": 66,
     "metadata": {},
     "output_type": "execute_result"
    }
   ],
   "source": [
    "dead_class = df[df['Survived']==0]['Pclass'].value_counts()\n",
    "dead_class"
   ]
  },
  {
   "cell_type": "code",
   "execution_count": 64,
   "metadata": {},
   "outputs": [
    {
     "data": {
      "text/html": [
       "<div>\n",
       "<style scoped>\n",
       "    .dataframe tbody tr th:only-of-type {\n",
       "        vertical-align: middle;\n",
       "    }\n",
       "\n",
       "    .dataframe tbody tr th {\n",
       "        vertical-align: top;\n",
       "    }\n",
       "\n",
       "    .dataframe thead th {\n",
       "        text-align: right;\n",
       "    }\n",
       "</style>\n",
       "<table border=\"1\" class=\"dataframe\">\n",
       "  <thead>\n",
       "    <tr style=\"text-align: right;\">\n",
       "      <th></th>\n",
       "      <th>1</th>\n",
       "      <th>2</th>\n",
       "      <th>3</th>\n",
       "    </tr>\n",
       "  </thead>\n",
       "  <tbody>\n",
       "    <tr>\n",
       "      <th>Pclass</th>\n",
       "      <td>272</td>\n",
       "      <td>174</td>\n",
       "      <td>238</td>\n",
       "    </tr>\n",
       "    <tr>\n",
       "      <th>Pclass</th>\n",
       "      <td>160</td>\n",
       "      <td>194</td>\n",
       "      <td>744</td>\n",
       "    </tr>\n",
       "  </tbody>\n",
       "</table>\n",
       "</div>"
      ],
      "text/plain": [
       "          1    2    3\n",
       "Pclass  272  174  238\n",
       "Pclass  160  194  744"
      ]
     },
     "execution_count": 64,
     "metadata": {},
     "output_type": "execute_result"
    }
   ],
   "source": [
    "df_class = pd.DataFrame([survived_class,dead_class])\n",
    "df_class"
   ]
  },
  {
   "cell_type": "code",
   "execution_count": 65,
   "metadata": {},
   "outputs": [
    {
     "data": {
      "text/html": [
       "<div>\n",
       "<style scoped>\n",
       "    .dataframe tbody tr th:only-of-type {\n",
       "        vertical-align: middle;\n",
       "    }\n",
       "\n",
       "    .dataframe tbody tr th {\n",
       "        vertical-align: top;\n",
       "    }\n",
       "\n",
       "    .dataframe thead th {\n",
       "        text-align: right;\n",
       "    }\n",
       "</style>\n",
       "<table border=\"1\" class=\"dataframe\">\n",
       "  <thead>\n",
       "    <tr style=\"text-align: right;\">\n",
       "      <th></th>\n",
       "      <th>1</th>\n",
       "      <th>2</th>\n",
       "      <th>3</th>\n",
       "    </tr>\n",
       "  </thead>\n",
       "  <tbody>\n",
       "    <tr>\n",
       "      <th>Survived</th>\n",
       "      <td>272</td>\n",
       "      <td>174</td>\n",
       "      <td>238</td>\n",
       "    </tr>\n",
       "    <tr>\n",
       "      <th>Died</th>\n",
       "      <td>160</td>\n",
       "      <td>194</td>\n",
       "      <td>744</td>\n",
       "    </tr>\n",
       "  </tbody>\n",
       "</table>\n",
       "</div>"
      ],
      "text/plain": [
       "            1    2    3\n",
       "Survived  272  174  238\n",
       "Died      160  194  744"
      ]
     },
     "execution_count": 65,
     "metadata": {},
     "output_type": "execute_result"
    }
   ],
   "source": [
    "# Visuzlization Code by RochelleSilve: https://www.kaggle.com/rochellesilva/simple-tutorial-for-beginners\n",
    "\n",
    "# Visualizando em tabela\n",
    "\n",
    "df_class.index = ['Survived','Died']\n",
    "df_class"
   ]
  },
  {
   "cell_type": "code",
   "execution_count": 67,
   "metadata": {},
   "outputs": [
    {
     "name": "stdout",
     "output_type": "stream",
     "text": [
      "Percentage of Class 1 that survived: 63.0 %\n",
      "Percentage of Class 2 that survived: 47.0 %\n",
      "Percentage of Class 3 that survived: 24.0 %\n"
     ]
    }
   ],
   "source": [
    "# Visualizando em porcentagens\n",
    "\n",
    "#-------------------Survived/Died by Class -------------------------------------\n",
    "Class1_survived= df_class.iloc[0,0]/df_class.iloc[:,0].sum()*100\n",
    "Class2_survived = df_class.iloc[0,1]/df_class.iloc[:,1].sum()*100\n",
    "Class3_survived = df_class.iloc[0,2]/df_class.iloc[:,2].sum()*100\n",
    "print(\"Percentage of Class 1 that survived:\" ,round(Class1_survived),\"%\")\n",
    "print(\"Percentage of Class 2 that survived:\" ,round(Class2_survived), \"%\")\n",
    "print(\"Percentage of Class 3 that survived:\" ,round(Class3_survived), \"%\")"
   ]
  },
  {
   "cell_type": "code",
   "execution_count": 71,
   "metadata": {},
   "outputs": [
    {
     "data": {
      "text/plain": [
       "<matplotlib.axes._subplots.AxesSubplot at 0x7f2a6790cf28>"
      ]
     },
     "execution_count": 71,
     "metadata": {},
     "output_type": "execute_result"
    },
    {
     "data": {
      "image/png": "[encoded data removed]",
      "text/plain": [
       "<Figure size 360x216 with 1 Axes>"
      ]
     },
     "metadata": {},
     "output_type": "display_data"
    }
   ],
   "source": [
    "# Visualizando em gráficos\n",
    "\n",
    "df_class.plot(kind='bar',stacked=True, figsize=(5,3), title=\"Survived/Died by Class\")"
   ]
  },
  {
   "cell_type": "markdown",
   "metadata": {},
   "source": [
    "#### Visualizando outros dados"
   ]
  },
  {
   "cell_type": "code",
   "execution_count": 73,
   "metadata": {},
   "outputs": [
    {
     "name": "stdout",
     "output_type": "stream",
     "text": [
      "Percentage of female that survived: 74.0 %\n",
      "Percentage of male that survived: 19.0 %\n"
     ]
    },
    {
     "data": {
      "text/html": [
       "<div>\n",
       "<style scoped>\n",
       "    .dataframe tbody tr th:only-of-type {\n",
       "        vertical-align: middle;\n",
       "    }\n",
       "\n",
       "    .dataframe tbody tr th {\n",
       "        vertical-align: top;\n",
       "    }\n",
       "\n",
       "    .dataframe thead th {\n",
       "        text-align: right;\n",
       "    }\n",
       "</style>\n",
       "<table border=\"1\" class=\"dataframe\">\n",
       "  <thead>\n",
       "    <tr style=\"text-align: right;\">\n",
       "      <th></th>\n",
       "      <th>female</th>\n",
       "      <th>male</th>\n",
       "    </tr>\n",
       "  </thead>\n",
       "  <tbody>\n",
       "    <tr>\n",
       "      <th>Survived</th>\n",
       "      <td>233</td>\n",
       "      <td>109</td>\n",
       "    </tr>\n",
       "    <tr>\n",
       "      <th>Died</th>\n",
       "      <td>81</td>\n",
       "      <td>468</td>\n",
       "    </tr>\n",
       "  </tbody>\n",
       "</table>\n",
       "</div>"
      ],
      "text/plain": [
       "          female  male\n",
       "Survived     233   109\n",
       "Died          81   468"
      ]
     },
     "metadata": {},
     "output_type": "display_data"
    },
    {
     "data": {
      "image/png": "[encoded data removed]",
      "text/plain": [
       "<Figure size 360x216 with 1 Axes>"
      ]
     },
     "metadata": {},
     "output_type": "display_data"
    }
   ],
   "source": [
    "#-------------------Survived/Died by SEX------------------------------------\n",
    "   \n",
    "Survived = dataset[dataset.Survived == 1]['Sex'].value_counts()\n",
    "Died = dataset[dataset.Survived == 0]['Sex'].value_counts()\n",
    "df_sex = pd.DataFrame([Survived , Died])\n",
    "df_sex.index = ['Survived','Died']\n",
    "df_sex.plot(kind='bar',stacked=True, figsize=(5,3), title=\"Survived/Died by Sex\")\n",
    "\n",
    "\n",
    "female_survived= df_sex.female[0]/df_sex.female.sum()*100\n",
    "male_survived = df_sex.male[0]/df_sex.male.sum()*100\n",
    "print(\"Percentage of female that survived:\" ,round(female_survived), \"%\")\n",
    "print(\"Percentage of male that survived:\" ,round(male_survived), \"%\")\n",
    "\n",
    "# display table\n",
    "from IPython.display import display\n",
    "display(df_sex) "
   ]
  },
  {
   "cell_type": "code",
   "execution_count": 74,
   "metadata": {},
   "outputs": [
    {
     "name": "stdout",
     "output_type": "stream",
     "text": [
      "Percentage of Embark S that survived: 34.0 %\n",
      "Percentage of Embark C that survived: 55.0 %\n",
      "Percentage of Embark Q that survived: 39.0 %\n"
     ]
    },
    {
     "data": {
      "text/html": [
       "<div>\n",
       "<style scoped>\n",
       "    .dataframe tbody tr th:only-of-type {\n",
       "        vertical-align: middle;\n",
       "    }\n",
       "\n",
       "    .dataframe tbody tr th {\n",
       "        vertical-align: top;\n",
       "    }\n",
       "\n",
       "    .dataframe thead th {\n",
       "        text-align: right;\n",
       "    }\n",
       "</style>\n",
       "<table border=\"1\" class=\"dataframe\">\n",
       "  <thead>\n",
       "    <tr style=\"text-align: right;\">\n",
       "      <th></th>\n",
       "      <th>S</th>\n",
       "      <th>C</th>\n",
       "      <th>Q</th>\n",
       "    </tr>\n",
       "  </thead>\n",
       "  <tbody>\n",
       "    <tr>\n",
       "      <th>Survived</th>\n",
       "      <td>217</td>\n",
       "      <td>93</td>\n",
       "      <td>30</td>\n",
       "    </tr>\n",
       "    <tr>\n",
       "      <th>Died</th>\n",
       "      <td>427</td>\n",
       "      <td>75</td>\n",
       "      <td>47</td>\n",
       "    </tr>\n",
       "  </tbody>\n",
       "</table>\n",
       "</div>"
      ],
      "text/plain": [
       "            S   C   Q\n",
       "Survived  217  93  30\n",
       "Died      427  75  47"
      ]
     },
     "metadata": {},
     "output_type": "display_data"
    },
    {
     "data": {
      "image/png": "[encoded data removed]",
      "text/plain": [
       "<Figure size 360x216 with 1 Axes>"
      ]
     },
     "metadata": {},
     "output_type": "display_data"
    }
   ],
   "source": [
    "#-------------------- Survived/Died by Embarked ----------------------------\n",
    "\n",
    "survived_embark = dataset[dataset['Survived']==1]['Embarked'].value_counts()\n",
    "dead_embark = dataset[dataset['Survived']==0]['Embarked'].value_counts()\n",
    "df_embark = pd.DataFrame([survived_embark,dead_embark])\n",
    "df_embark.index = ['Survived','Died']\n",
    "df_embark.plot(kind='bar',stacked=True, figsize=(5,3))\n",
    "\n",
    "Embark_S= df_embark.iloc[0,0]/df_embark.iloc[:,0].sum()*100\n",
    "Embark_C = df_embark.iloc[0,1]/df_embark.iloc[:,1].sum()*100\n",
    "Embark_Q = df_embark.iloc[0,2]/df_embark.iloc[:,2].sum()*100\n",
    "print(\"Percentage of Embark S that survived:\", round(Embark_S), \"%\")\n",
    "print(\"Percentage of Embark C that survived:\" ,round(Embark_C), \"%\")\n",
    "print(\"Percentage of Embark Q that survived:\" ,round(Embark_Q), \"%\")\n",
    "\n",
    "from IPython.display import display\n",
    "display(df_embark)"
   ]
  },
  {
   "cell_type": "markdown",
   "metadata": {},
   "source": [
    "#### Preparando os dados"
   ]
  },
  {
   "cell_type": "code",
   "execution_count": null,
   "metadata": {},
   "outputs": [],
   "source": []
  }
 ],
 "metadata": {
  "kernelspec": {
   "display_name": "Python 3",
   "language": "python",
   "name": "python3"
  },
  "language_info": {
   "codemirror_mode": {
    "name": "ipython",
    "version": 3
   },
   "file_extension": ".py",
   "mimetype": "text/x-python",
   "name": "python",
   "nbconvert_exporter": "python",
   "pygments_lexer": "ipython3",
   "version": "3.6.9"
  }
 },
 "nbformat": 4,
 "nbformat_minor": 4
}
